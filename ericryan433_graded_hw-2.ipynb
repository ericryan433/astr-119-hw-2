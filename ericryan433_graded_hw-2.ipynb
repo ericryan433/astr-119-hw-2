{
 "cells": [
  {
   "cell_type": "markdown",
   "metadata": {},
   "source": [
    "grade: 8/8, looks great!  comments are informative and helpful!"
   ]
  },
  {
   "cell_type": "code",
   "execution_count": null,
   "metadata": {
    "ExecuteTime": {
     "end_time": "2018-10-22T20:07:23.001635Z",
     "start_time": "2018-10-22T20:07:22.723812Z"
    },
    "collapsed": true
   },
   "outputs": [],
   "source": [
    "%matplotlib inline \n",
    "import numpy as np                          # Import numpy under alias \"np\"\n",
    "import matplotlib.pyplot as plt             # Import matplotlib.pyplot under alias \"plt\""
   ]
  },
  {
   "cell_type": "code",
   "execution_count": null,
   "metadata": {
    "ExecuteTime": {
     "end_time": "2018-10-22T20:07:23.190593Z",
     "start_time": "2018-10-22T20:07:23.003259Z"
    }
   },
   "outputs": [],
   "source": [
    "x = np.linspace(0, 2*np.pi, 1000)           # Create an array x = [0,2*pi] with 1000 values\n",
    "a = 5.5 * np.cos(2*x) + 5.5                 # Function a = 5.5*cos(2*x) + 5.5\n",
    "b = 0.02 * np.exp(x)                        # Function b = 0.02*exp(x)\n",
    "c = 0.25 * x**2 + 0.1 * np.sin(10*x)        # Function c = 0.25*x^2 + 0.1*sin(10*x)\n",
    "plt.plot(x,a)                               # Plot the graph of a vs. x\n",
    "plt.plot(x,b)                               # Plot the graph of b vs. x\n",
    "plt.plot(x,c)                               # Plot the graph of c vs. x\n",
    "plt.xlim([0, 2*np.pi])                      # Set x range as x = [0,2*pi]\n",
    "plt.ylim([-1, 10])                          # Set y range as y = [-1,10]\n",
    "plt.xlabel('Time is ASTR/EART 119')         # Label the x axis \"Time in ASTR/EART 119\"\n",
    "plt.ylabel('Measures of Awesomeness')       # Label the y axis \"Measures of Awesomeness\"\n",
    "plt.show()                                  # Show the plot on the screen"
   ]
  },
  {
   "cell_type": "code",
   "execution_count": null,
   "metadata": {
    "collapsed": true
   },
   "outputs": [],
   "source": []
  }
 ],
 "metadata": {
  "kernelspec": {
   "display_name": "Python 3",
   "language": "python",
   "name": "python3"
  },
  "language_info": {
   "codemirror_mode": {
    "name": "ipython",
    "version": 3
   },
   "file_extension": ".py",
   "mimetype": "text/x-python",
   "name": "python",
   "nbconvert_exporter": "python",
   "pygments_lexer": "ipython3",
   "version": "3.6.1"
  }
 },
 "nbformat": 4,
 "nbformat_minor": 2
}
